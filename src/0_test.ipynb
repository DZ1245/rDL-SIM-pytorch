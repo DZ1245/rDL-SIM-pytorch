{
 "cells": [
  {
   "cell_type": "code",
   "execution_count": 1,
   "metadata": {},
   "outputs": [],
   "source": [
    "import torch.nn as nn\n",
    "import torch\n",
    "import numpy as np\n",
    "import tifffile as tiff\n",
    "import os"
   ]
  },
  {
   "cell_type": "code",
   "execution_count": 2,
   "metadata": {},
   "outputs": [],
   "source": [
    "from model.DFCAN import DFCAN\n",
    "from utils.loss import MSESSIMLoss\n",
    "from skimage.metrics import peak_signal_noise_ratio as compare_psnr"
   ]
  },
  {
   "cell_type": "code",
   "execution_count": 3,
   "metadata": {},
   "outputs": [],
   "source": [
    "def prctile_norm(x, min_prc=0, max_prc=100):\n",
    "    y = (x-np.percentile(x, min_prc))/(np.percentile(x, max_prc)-np.percentile(x, min_prc)+1e-7)\n",
    "    return y"
   ]
  },
  {
   "cell_type": "code",
   "execution_count": 3,
   "metadata": {},
   "outputs": [],
   "source": [
    "load_name = '../trained_models/SR_Inference_Module/Microtubules/Model_noCast/model_best.pth'\n",
    "checkpoint = torch.load(load_name)"
   ]
  },
  {
   "cell_type": "code",
   "execution_count": 6,
   "metadata": {},
   "outputs": [
    {
     "name": "stdout",
     "output_type": "stream",
     "text": [
      "module.conv1.weight\n",
      "module.conv1.bias\n",
      "module.ResGroup.0.FCABs.0.conv1.weight\n",
      "module.ResGroup.0.FCABs.0.conv1.bias\n",
      "module.ResGroup.0.FCABs.0.conv2.weight\n",
      "module.ResGroup.0.FCABs.0.conv2.bias\n",
      "module.ResGroup.0.FCABs.0.fcat.conv1.weight\n",
      "module.ResGroup.0.FCABs.0.fcat.conv1.bias\n",
      "module.ResGroup.0.FCABs.0.fcat.conv2.weight\n",
      "module.ResGroup.0.FCABs.0.fcat.conv2.bias\n",
      "module.ResGroup.0.FCABs.0.fcat.conv3.weight\n",
      "module.ResGroup.0.FCABs.0.fcat.conv3.bias\n",
      "module.ResGroup.0.FCABs.1.conv1.weight\n",
      "module.ResGroup.0.FCABs.1.conv1.bias\n",
      "module.ResGroup.0.FCABs.1.conv2.weight\n",
      "module.ResGroup.0.FCABs.1.conv2.bias\n",
      "module.ResGroup.0.FCABs.1.fcat.conv1.weight\n",
      "module.ResGroup.0.FCABs.1.fcat.conv1.bias\n",
      "module.ResGroup.0.FCABs.1.fcat.conv2.weight\n",
      "module.ResGroup.0.FCABs.1.fcat.conv2.bias\n",
      "module.ResGroup.0.FCABs.1.fcat.conv3.weight\n",
      "module.ResGroup.0.FCABs.1.fcat.conv3.bias\n",
      "module.ResGroup.0.FCABs.2.conv1.weight\n",
      "module.ResGroup.0.FCABs.2.conv1.bias\n",
      "module.ResGroup.0.FCABs.2.conv2.weight\n",
      "module.ResGroup.0.FCABs.2.conv2.bias\n",
      "module.ResGroup.0.FCABs.2.fcat.conv1.weight\n",
      "module.ResGroup.0.FCABs.2.fcat.conv1.bias\n",
      "module.ResGroup.0.FCABs.2.fcat.conv2.weight\n",
      "module.ResGroup.0.FCABs.2.fcat.conv2.bias\n",
      "module.ResGroup.0.FCABs.2.fcat.conv3.weight\n",
      "module.ResGroup.0.FCABs.2.fcat.conv3.bias\n",
      "module.ResGroup.0.FCABs.3.conv1.weight\n",
      "module.ResGroup.0.FCABs.3.conv1.bias\n",
      "module.ResGroup.0.FCABs.3.conv2.weight\n",
      "module.ResGroup.0.FCABs.3.conv2.bias\n",
      "module.ResGroup.0.FCABs.3.fcat.conv1.weight\n",
      "module.ResGroup.0.FCABs.3.fcat.conv1.bias\n",
      "module.ResGroup.0.FCABs.3.fcat.conv2.weight\n",
      "module.ResGroup.0.FCABs.3.fcat.conv2.bias\n",
      "module.ResGroup.0.FCABs.3.fcat.conv3.weight\n",
      "module.ResGroup.0.FCABs.3.fcat.conv3.bias\n",
      "module.ResGroup.1.FCABs.0.conv1.weight\n",
      "module.ResGroup.1.FCABs.0.conv1.bias\n",
      "module.ResGroup.1.FCABs.0.conv2.weight\n",
      "module.ResGroup.1.FCABs.0.conv2.bias\n",
      "module.ResGroup.1.FCABs.0.fcat.conv1.weight\n",
      "module.ResGroup.1.FCABs.0.fcat.conv1.bias\n",
      "module.ResGroup.1.FCABs.0.fcat.conv2.weight\n",
      "module.ResGroup.1.FCABs.0.fcat.conv2.bias\n",
      "module.ResGroup.1.FCABs.0.fcat.conv3.weight\n",
      "module.ResGroup.1.FCABs.0.fcat.conv3.bias\n",
      "module.ResGroup.1.FCABs.1.conv1.weight\n",
      "module.ResGroup.1.FCABs.1.conv1.bias\n",
      "module.ResGroup.1.FCABs.1.conv2.weight\n",
      "module.ResGroup.1.FCABs.1.conv2.bias\n",
      "module.ResGroup.1.FCABs.1.fcat.conv1.weight\n",
      "module.ResGroup.1.FCABs.1.fcat.conv1.bias\n",
      "module.ResGroup.1.FCABs.1.fcat.conv2.weight\n",
      "module.ResGroup.1.FCABs.1.fcat.conv2.bias\n",
      "module.ResGroup.1.FCABs.1.fcat.conv3.weight\n",
      "module.ResGroup.1.FCABs.1.fcat.conv3.bias\n",
      "module.ResGroup.1.FCABs.2.conv1.weight\n",
      "module.ResGroup.1.FCABs.2.conv1.bias\n",
      "module.ResGroup.1.FCABs.2.conv2.weight\n",
      "module.ResGroup.1.FCABs.2.conv2.bias\n",
      "module.ResGroup.1.FCABs.2.fcat.conv1.weight\n",
      "module.ResGroup.1.FCABs.2.fcat.conv1.bias\n",
      "module.ResGroup.1.FCABs.2.fcat.conv2.weight\n",
      "module.ResGroup.1.FCABs.2.fcat.conv2.bias\n",
      "module.ResGroup.1.FCABs.2.fcat.conv3.weight\n",
      "module.ResGroup.1.FCABs.2.fcat.conv3.bias\n",
      "module.ResGroup.1.FCABs.3.conv1.weight\n",
      "module.ResGroup.1.FCABs.3.conv1.bias\n",
      "module.ResGroup.1.FCABs.3.conv2.weight\n",
      "module.ResGroup.1.FCABs.3.conv2.bias\n",
      "module.ResGroup.1.FCABs.3.fcat.conv1.weight\n",
      "module.ResGroup.1.FCABs.3.fcat.conv1.bias\n",
      "module.ResGroup.1.FCABs.3.fcat.conv2.weight\n",
      "module.ResGroup.1.FCABs.3.fcat.conv2.bias\n",
      "module.ResGroup.1.FCABs.3.fcat.conv3.weight\n",
      "module.ResGroup.1.FCABs.3.fcat.conv3.bias\n",
      "module.ResGroup.2.FCABs.0.conv1.weight\n",
      "module.ResGroup.2.FCABs.0.conv1.bias\n",
      "module.ResGroup.2.FCABs.0.conv2.weight\n",
      "module.ResGroup.2.FCABs.0.conv2.bias\n",
      "module.ResGroup.2.FCABs.0.fcat.conv1.weight\n",
      "module.ResGroup.2.FCABs.0.fcat.conv1.bias\n",
      "module.ResGroup.2.FCABs.0.fcat.conv2.weight\n",
      "module.ResGroup.2.FCABs.0.fcat.conv2.bias\n",
      "module.ResGroup.2.FCABs.0.fcat.conv3.weight\n",
      "module.ResGroup.2.FCABs.0.fcat.conv3.bias\n",
      "module.ResGroup.2.FCABs.1.conv1.weight\n",
      "module.ResGroup.2.FCABs.1.conv1.bias\n",
      "module.ResGroup.2.FCABs.1.conv2.weight\n",
      "module.ResGroup.2.FCABs.1.conv2.bias\n",
      "module.ResGroup.2.FCABs.1.fcat.conv1.weight\n",
      "module.ResGroup.2.FCABs.1.fcat.conv1.bias\n",
      "module.ResGroup.2.FCABs.1.fcat.conv2.weight\n",
      "module.ResGroup.2.FCABs.1.fcat.conv2.bias\n",
      "module.ResGroup.2.FCABs.1.fcat.conv3.weight\n",
      "module.ResGroup.2.FCABs.1.fcat.conv3.bias\n",
      "module.ResGroup.2.FCABs.2.conv1.weight\n",
      "module.ResGroup.2.FCABs.2.conv1.bias\n",
      "module.ResGroup.2.FCABs.2.conv2.weight\n",
      "module.ResGroup.2.FCABs.2.conv2.bias\n",
      "module.ResGroup.2.FCABs.2.fcat.conv1.weight\n",
      "module.ResGroup.2.FCABs.2.fcat.conv1.bias\n",
      "module.ResGroup.2.FCABs.2.fcat.conv2.weight\n",
      "module.ResGroup.2.FCABs.2.fcat.conv2.bias\n",
      "module.ResGroup.2.FCABs.2.fcat.conv3.weight\n",
      "module.ResGroup.2.FCABs.2.fcat.conv3.bias\n",
      "module.ResGroup.2.FCABs.3.conv1.weight\n",
      "module.ResGroup.2.FCABs.3.conv1.bias\n",
      "module.ResGroup.2.FCABs.3.conv2.weight\n",
      "module.ResGroup.2.FCABs.3.conv2.bias\n",
      "module.ResGroup.2.FCABs.3.fcat.conv1.weight\n",
      "module.ResGroup.2.FCABs.3.fcat.conv1.bias\n",
      "module.ResGroup.2.FCABs.3.fcat.conv2.weight\n",
      "module.ResGroup.2.FCABs.3.fcat.conv2.bias\n",
      "module.ResGroup.2.FCABs.3.fcat.conv3.weight\n",
      "module.ResGroup.2.FCABs.3.fcat.conv3.bias\n",
      "module.ResGroup.3.FCABs.0.conv1.weight\n",
      "module.ResGroup.3.FCABs.0.conv1.bias\n",
      "module.ResGroup.3.FCABs.0.conv2.weight\n",
      "module.ResGroup.3.FCABs.0.conv2.bias\n",
      "module.ResGroup.3.FCABs.0.fcat.conv1.weight\n",
      "module.ResGroup.3.FCABs.0.fcat.conv1.bias\n",
      "module.ResGroup.3.FCABs.0.fcat.conv2.weight\n",
      "module.ResGroup.3.FCABs.0.fcat.conv2.bias\n",
      "module.ResGroup.3.FCABs.0.fcat.conv3.weight\n",
      "module.ResGroup.3.FCABs.0.fcat.conv3.bias\n",
      "module.ResGroup.3.FCABs.1.conv1.weight\n",
      "module.ResGroup.3.FCABs.1.conv1.bias\n",
      "module.ResGroup.3.FCABs.1.conv2.weight\n",
      "module.ResGroup.3.FCABs.1.conv2.bias\n",
      "module.ResGroup.3.FCABs.1.fcat.conv1.weight\n",
      "module.ResGroup.3.FCABs.1.fcat.conv1.bias\n",
      "module.ResGroup.3.FCABs.1.fcat.conv2.weight\n",
      "module.ResGroup.3.FCABs.1.fcat.conv2.bias\n",
      "module.ResGroup.3.FCABs.1.fcat.conv3.weight\n",
      "module.ResGroup.3.FCABs.1.fcat.conv3.bias\n",
      "module.ResGroup.3.FCABs.2.conv1.weight\n",
      "module.ResGroup.3.FCABs.2.conv1.bias\n",
      "module.ResGroup.3.FCABs.2.conv2.weight\n",
      "module.ResGroup.3.FCABs.2.conv2.bias\n",
      "module.ResGroup.3.FCABs.2.fcat.conv1.weight\n",
      "module.ResGroup.3.FCABs.2.fcat.conv1.bias\n",
      "module.ResGroup.3.FCABs.2.fcat.conv2.weight\n",
      "module.ResGroup.3.FCABs.2.fcat.conv2.bias\n",
      "module.ResGroup.3.FCABs.2.fcat.conv3.weight\n",
      "module.ResGroup.3.FCABs.2.fcat.conv3.bias\n",
      "module.ResGroup.3.FCABs.3.conv1.weight\n",
      "module.ResGroup.3.FCABs.3.conv1.bias\n",
      "module.ResGroup.3.FCABs.3.conv2.weight\n",
      "module.ResGroup.3.FCABs.3.conv2.bias\n",
      "module.ResGroup.3.FCABs.3.fcat.conv1.weight\n",
      "module.ResGroup.3.FCABs.3.fcat.conv1.bias\n",
      "module.ResGroup.3.FCABs.3.fcat.conv2.weight\n",
      "module.ResGroup.3.FCABs.3.fcat.conv2.bias\n",
      "module.ResGroup.3.FCABs.3.fcat.conv3.weight\n",
      "module.ResGroup.3.FCABs.3.fcat.conv3.bias\n",
      "module.conv2.weight\n",
      "module.conv2.bias\n",
      "module.conv3.weight\n",
      "module.conv3.bias\n"
     ]
    }
   ],
   "source": [
    "\n",
    "for i in checkpoint['state_dict'].keys():\n",
    "    print(i)"
   ]
  },
  {
   "cell_type": "code",
   "execution_count": null,
   "metadata": {},
   "outputs": [],
   "source": [
    "path = '/data/home/dz/rDL_SIM/SR/Microtubules/train/Cell_002_level01_croped000.tif'\n",
    "img = tiff.imread(path)\n",
    "img = np.array([img]).astype(np.float32)\n",
    "# img = np.transpose(img, (0, 2, 3, 1))\n",
    "img = torch.Tensor(img).cuda()"
   ]
  },
  {
   "cell_type": "code",
   "execution_count": null,
   "metadata": {},
   "outputs": [],
   "source": [
    "gt_path = '/data/home/dz/rDL_SIM/SR/Microtubules/train_gt/Cell_002_level01_croped000.tif'\n",
    "gt = tiff.imread(gt_path)\n",
    "gt = np.array([gt]).astype(np.float32)\n",
    "# img = np.transpose(img, (0, 2, 3, 1))\n",
    "gt = torch.Tensor(gt).cuda()"
   ]
  },
  {
   "cell_type": "code",
   "execution_count": null,
   "metadata": {},
   "outputs": [],
   "source": [
    "img.size(),gt.size()"
   ]
  },
  {
   "cell_type": "code",
   "execution_count": 5,
   "metadata": {},
   "outputs": [],
   "source": [
    "model = DFCAN().cuda()"
   ]
  },
  {
   "cell_type": "code",
   "execution_count": null,
   "metadata": {},
   "outputs": [],
   "source": [
    "out = model(img)"
   ]
  },
  {
   "cell_type": "code",
   "execution_count": null,
   "metadata": {},
   "outputs": [],
   "source": [
    "out.size()"
   ]
  },
  {
   "cell_type": "code",
   "execution_count": 4,
   "metadata": {},
   "outputs": [],
   "source": [
    "path = '/mnt/data2_16T/datasets/zhi.deng/Biology_cell/rDL_SIM/SR/Microtubules/val_gt/Cell_001_level01_croped007.tif'"
   ]
  },
  {
   "cell_type": "code",
   "execution_count": 5,
   "metadata": {},
   "outputs": [],
   "source": [
    "img = tiff.imread(path)"
   ]
  },
  {
   "cell_type": "code",
   "execution_count": 10,
   "metadata": {},
   "outputs": [
    {
     "data": {
      "text/plain": [
       "array([[[17389, 15233, 10666, ..., 13121, 12619, 11004],\n",
       "        [17319, 16042, 12255, ..., 14135, 13540, 11746],\n",
       "        [15667, 15646, 13496, ..., 14749, 14496, 12988],\n",
       "        ...,\n",
       "        [ 2429,  2550,  3184, ...,  7543,  6902,  6002],\n",
       "        [ 3293,  3228,  3490, ...,  7131,  6888,  6163],\n",
       "        [ 3801,  3597,  3576, ...,  6173,  6346,  5941]]], dtype=uint16)"
      ]
     },
     "execution_count": 10,
     "metadata": {},
     "output_type": "execute_result"
    }
   ],
   "source": [
    "img"
   ]
  },
  {
   "cell_type": "code",
   "execution_count": 8,
   "metadata": {},
   "outputs": [],
   "source": [
    "i= prctile_norm(img)\n",
    "out = np.uint16(i * 65535)"
   ]
  },
  {
   "cell_type": "code",
   "execution_count": 11,
   "metadata": {},
   "outputs": [],
   "source": [
    "tiff.imwrite('s.tif',out)"
   ]
  },
  {
   "cell_type": "code",
   "execution_count": 14,
   "metadata": {},
   "outputs": [],
   "source": [
    "path = '/mnt/data2_16T/datasets/zhi.deng/Biology_cell/rDL_SIM/SR/Microtubules/train_gt/'\n",
    "list = os.listdir(path)"
   ]
  },
  {
   "cell_type": "code",
   "execution_count": 15,
   "metadata": {},
   "outputs": [],
   "source": [
    "maxx = []\n",
    "for l in list:\n",
    "    img = tiff.imread(os.path.join(path, l))\n",
    "    maxx.append(img.max())"
   ]
  },
  {
   "cell_type": "code",
   "execution_count": 12,
   "metadata": {},
   "outputs": [
    {
     "name": "stdout",
     "output_type": "stream",
     "text": [
      "a\n"
     ]
    }
   ],
   "source": []
  },
  {
   "cell_type": "code",
   "execution_count": null,
   "metadata": {},
   "outputs": [],
   "source": []
  },
  {
   "cell_type": "code",
   "execution_count": null,
   "metadata": {},
   "outputs": [],
   "source": []
  },
  {
   "cell_type": "code",
   "execution_count": null,
   "metadata": {},
   "outputs": [],
   "source": []
  },
  {
   "cell_type": "code",
   "execution_count": null,
   "metadata": {},
   "outputs": [],
   "source": []
  },
  {
   "cell_type": "code",
   "execution_count": null,
   "metadata": {},
   "outputs": [],
   "source": []
  },
  {
   "cell_type": "code",
   "execution_count": null,
   "metadata": {},
   "outputs": [],
   "source": []
  },
  {
   "cell_type": "code",
   "execution_count": null,
   "metadata": {},
   "outputs": [],
   "source": []
  },
  {
   "cell_type": "code",
   "execution_count": null,
   "metadata": {},
   "outputs": [],
   "source": []
  },
  {
   "cell_type": "code",
   "execution_count": null,
   "metadata": {},
   "outputs": [],
   "source": []
  },
  {
   "cell_type": "code",
   "execution_count": null,
   "metadata": {},
   "outputs": [],
   "source": []
  },
  {
   "cell_type": "code",
   "execution_count": null,
   "metadata": {},
   "outputs": [],
   "source": []
  },
  {
   "cell_type": "code",
   "execution_count": null,
   "metadata": {},
   "outputs": [],
   "source": []
  },
  {
   "cell_type": "code",
   "execution_count": null,
   "metadata": {},
   "outputs": [],
   "source": []
  },
  {
   "cell_type": "code",
   "execution_count": null,
   "metadata": {},
   "outputs": [],
   "source": []
  },
  {
   "cell_type": "code",
   "execution_count": null,
   "metadata": {},
   "outputs": [],
   "source": []
  },
  {
   "cell_type": "code",
   "execution_count": null,
   "metadata": {},
   "outputs": [],
   "source": []
  },
  {
   "cell_type": "code",
   "execution_count": null,
   "metadata": {},
   "outputs": [],
   "source": []
  },
  {
   "cell_type": "code",
   "execution_count": null,
   "metadata": {},
   "outputs": [],
   "source": []
  },
  {
   "cell_type": "code",
   "execution_count": null,
   "metadata": {},
   "outputs": [],
   "source": []
  },
  {
   "cell_type": "code",
   "execution_count": null,
   "metadata": {},
   "outputs": [],
   "source": []
  },
  {
   "cell_type": "code",
   "execution_count": null,
   "metadata": {},
   "outputs": [],
   "source": []
  },
  {
   "cell_type": "code",
   "execution_count": null,
   "metadata": {},
   "outputs": [],
   "source": []
  },
  {
   "cell_type": "code",
   "execution_count": null,
   "metadata": {},
   "outputs": [],
   "source": []
  }
 ],
 "metadata": {
  "kernelspec": {
   "display_name": "rDL_pt",
   "language": "python",
   "name": "python3"
  },
  "language_info": {
   "codemirror_mode": {
    "name": "ipython",
    "version": 3
   },
   "file_extension": ".py",
   "mimetype": "text/x-python",
   "name": "python",
   "nbconvert_exporter": "python",
   "pygments_lexer": "ipython3",
   "version": "3.7.0"
  }
 },
 "nbformat": 4,
 "nbformat_minor": 2
}
